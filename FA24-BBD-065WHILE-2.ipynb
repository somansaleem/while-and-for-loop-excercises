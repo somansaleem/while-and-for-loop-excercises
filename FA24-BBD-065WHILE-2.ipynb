{
 "cells": [
  {
   "cell_type": "code",
   "execution_count": 1,
   "id": "e3c010b2-ff0b-4b66-90e7-d98b3dadb98a",
   "metadata": {},
   "outputs": [
    {
     "name": "stdout",
     "output_type": "stream",
     "text": [
      "DARK KNIGHT\n",
      "DRIVE\n",
      "HEAT\n",
      "GOODFELLAS\n"
     ]
    }
   ],
   "source": [
    "movies=[\"DARK KNIGHT\",\"DRIVE\",\"HEAT\",\"GOODFELLAS\"]\n",
    "for m in movies:\n",
    "    print(m)"
   ]
  },
  {
   "cell_type": "code",
   "execution_count": 15,
   "id": "dbdec963-b101-4414-aa28-945e0c499796",
   "metadata": {},
   "outputs": [
    {
     "name": "stdout",
     "output_type": "stream",
     "text": [
      "0 DARK KNIGHT\n",
      "1 DRIVE\n",
      "2 HEAT\n",
      "3 GOODFELLAS\n"
     ]
    }
   ],
   "source": [
    "movies = [\"DARK KNIGHT\", \"DRIVE\", \"HEAT\", \"GOODFELLAS\"]\n",
    "index = 0\n",
    "for movie in movies:\n",
    "    print(index, movie)\n",
    "    index += 1\n"
   ]
  },
  {
   "cell_type": "code",
   "execution_count": 17,
   "id": "63ccf5b4-769f-451b-8ab6-b161bdece905",
   "metadata": {},
   "outputs": [
    {
     "name": "stdout",
     "output_type": "stream",
     "text": [
      "m\n",
      "u\n",
      "h\n",
      "a\n",
      "m\n",
      "m\n",
      "a\n",
      "d\n",
      "s\n",
      "o\n",
      "m\n",
      "a\n",
      "n\n",
      "s\n",
      "a\n",
      "l\n",
      "e\n",
      "e\n",
      "m\n"
     ]
    }
   ],
   "source": [
    "name=\"muhammadsomansaleem\"\n",
    "for char in name:\n",
    "    print(char)\n"
   ]
  },
  {
   "cell_type": "code",
   "execution_count": 39,
   "id": "84e4a442-7690-4925-bf1a-42b5c2655feb",
   "metadata": {},
   "outputs": [
    {
     "name": "stdout",
     "output_type": "stream",
     "text": [
      "8\n"
     ]
    }
   ],
   "source": [
    "name=\"muhammadsomansaleem\"\n",
    "vowels=\"aeiou\"\n",
    "vowels_count=0\n",
    "for c in name:\n",
    "    if c in vowels:\n",
    "        vowels_count+=1\n",
    "print(vowels_count)\n",
    "    "
   ]
  },
  {
   "cell_type": "code",
   "execution_count": 45,
   "id": "99ef58ec-9d27-42fe-b33d-d6e9da0ece00",
   "metadata": {},
   "outputs": [
    {
     "name": "stdout",
     "output_type": "stream",
     "text": [
      "Student: Ahmed, Grade: 85\n",
      "Student: Fatima, Grade: 92\n",
      "Student: Omar, Grade: 78\n",
      "Student: Ayesha, Grade: 95\n",
      "Student: Zainab, Grade: 88\n",
      "\n",
      "Top student: Ayesha with grade 95\n"
     ]
    }
   ],
   "source": [
    "\n",
    "students_grades = {\"Ahmed\": 85,\n",
    "    \"Fatima\": 92,\n",
    "    \"Omar\": 78,\n",
    "    \"Ayesha\": 95,\n",
    "    \"Zainab\": 88}\n",
    "for name, grade in students_grades.items():\n",
    "    print(f\"Student: {name}, Grade: {grade}\")\n",
    "highest_grade = 0\n",
    "top_student = \"\"\n",
    "\n",
    "for name, grade in students_grades.items():\n",
    "    if grade > highest_grade:\n",
    "        highest_grade = grade\n",
    "        top_student = name\n",
    "\n",
    "print(f\"\\nTop student: {top_student} with grade {highest_grade}\")\n"
   ]
  },
  {
   "cell_type": "code",
   "execution_count": 47,
   "id": "8a19a615-2bd3-4d65-9cb7-3f8ba7950ee8",
   "metadata": {},
   "outputs": [
    {
     "name": "stdout",
     "output_type": "stream",
     "text": [
      "1\n",
      "2\n",
      "3\n",
      "4\n",
      "5\n",
      "6\n",
      "7\n",
      "8\n",
      "9\n",
      "10\n"
     ]
    }
   ],
   "source": [
    "i = 1\n",
    "while i <= 10:\n",
    "    print(i)\n",
    "    i += 1\n"
   ]
  },
  {
   "cell_type": "code",
   "execution_count": 49,
   "id": "45cd08b2-3954-4d83-8b0e-e6d4bde70fea",
   "metadata": {},
   "outputs": [
    {
     "name": "stdout",
     "output_type": "stream",
     "text": [
      "2\n",
      "4\n",
      "6\n",
      "8\n",
      "10\n",
      "12\n",
      "14\n",
      "16\n",
      "18\n",
      "20\n"
     ]
    }
   ],
   "source": [
    "i = 1\n",
    "while i <= 20:\n",
    "    if i % 2 == 0:\n",
    "        print(i)\n",
    "    i += 1\n",
    "\n",
    "\n"
   ]
  },
  {
   "cell_type": "code",
   "execution_count": 51,
   "id": "99a3cc37-14b2-46ac-91c6-f7b0d62358ba",
   "metadata": {},
   "outputs": [
    {
     "name": "stdout",
     "output_type": "stream",
     "text": [
      "Sum of first 10 natural numbers: 55\n"
     ]
    }
   ],
   "source": [
    "i = 1\n",
    "total = 0\n",
    "while i <= 10:\n",
    "    total += i\n",
    "    i += 1\n",
    "print(f\"Sum of first 10 natural numbers: {total}\")\n"
   ]
  },
  {
   "cell_type": "code",
   "execution_count": 71,
   "id": "daaa2505-1f8d-43c3-82d7-e9e22aee27af",
   "metadata": {},
   "outputs": [
    {
     "name": "stdin",
     "output_type": "stream",
     "text": [
      "Enter a number (negative to stop):  2\n",
      "Enter a number (negative to stop):  2\n",
      "Enter a number (negative to stop):  2\n",
      "Enter a number (negative to stop):  -2\n"
     ]
    },
    {
     "name": "stdout",
     "output_type": "stream",
     "text": [
      "Total sum: 6\n"
     ]
    }
   ],
   "source": [
    "total = 0\n",
    "while True:\n",
    "    num = int(input(\"Enter a number (negative to stop): \"))\n",
    "    if num < 0:\n",
    "        break\n",
    "    total += num\n",
    "print(f\"Total sum: {total}\")\n",
    "\n"
   ]
  },
  {
   "cell_type": "code",
   "execution_count": 57,
   "id": "925e8271-59a7-49b2-b00e-f905c73d529a",
   "metadata": {},
   "outputs": [
    {
     "name": "stdin",
     "output_type": "stream",
     "text": [
      "Guess the number (1-100):  43\n"
     ]
    },
    {
     "name": "stdout",
     "output_type": "stream",
     "text": [
      "Too high!\n"
     ]
    },
    {
     "name": "stdin",
     "output_type": "stream",
     "text": [
      "Guess the number (1-100):  19\n"
     ]
    },
    {
     "name": "stdout",
     "output_type": "stream",
     "text": [
      "Too low!\n"
     ]
    },
    {
     "name": "stdin",
     "output_type": "stream",
     "text": [
      "Guess the number (1-100):  29\n"
     ]
    },
    {
     "name": "stdout",
     "output_type": "stream",
     "text": [
      "Too high!\n"
     ]
    },
    {
     "name": "stdin",
     "output_type": "stream",
     "text": [
      "Guess the number (1-100):  25\n"
     ]
    },
    {
     "name": "stdout",
     "output_type": "stream",
     "text": [
      "Too high!\n"
     ]
    },
    {
     "name": "stdin",
     "output_type": "stream",
     "text": [
      "Guess the number (1-100):  23\n"
     ]
    },
    {
     "name": "stdout",
     "output_type": "stream",
     "text": [
      "Too low!\n"
     ]
    },
    {
     "name": "stdin",
     "output_type": "stream",
     "text": [
      "Guess the number (1-100):  24\n"
     ]
    },
    {
     "name": "stdout",
     "output_type": "stream",
     "text": [
      "Correct! You guessed the number!\n"
     ]
    }
   ],
   "source": [
    "target = 42  \n",
    "guess = 0\n",
    "\n",
    "while guess != target:\n",
    "    guess = int(input(\"Guess the number (1-100): \"))\n",
    "    if guess < target:\n",
    "        print(\"Too low!\")\n",
    "    elif guess > target:\n",
    "        print(\"Too high!\")\n",
    "\n",
    "print(\"Correct! You guessed the number!\")\n",
    "\n"
   ]
  },
  {
   "cell_type": "code",
   "execution_count": 61,
   "id": "567c0d85-0034-4bd9-a8ff-78e5d3da52c9",
   "metadata": {},
   "outputs": [
    {
     "name": "stdin",
     "output_type": "stream",
     "text": [
      "Enter a positive integer:  10\n"
     ]
    },
    {
     "name": "stdout",
     "output_type": "stream",
     "text": [
      "Factorial of 10 is 3628800\n"
     ]
    }
   ],
   "source": [
    "num = int(input(\"Enter a positive integer: \"))\n",
    "factorial = 1\n",
    "i = 1\n",
    "\n",
    "while i <= num:\n",
    "    factorial *= i\n",
    "    i += 1\n",
    "\n",
    "print(f\"Factorial of {num} is {factorial}\")\n"
   ]
  },
  {
   "cell_type": "code",
   "execution_count": 65,
   "id": "8a4dbfe2-98a6-4e74-bbcb-4f5af5f6095a",
   "metadata": {},
   "outputs": [
    {
     "name": "stdin",
     "output_type": "stream",
     "text": [
      "Enter a number (or 'done' to stop):  20\n",
      "Enter a number (or 'done' to stop):  25\n",
      "Enter a number (or 'done' to stop):  25\n",
      "Enter a number (or 'done' to stop):  20\n",
      "Enter a number (or 'done' to stop):  done\n"
     ]
    },
    {
     "name": "stdout",
     "output_type": "stream",
     "text": [
      "Average: 22.5\n"
     ]
    }
   ],
   "source": [
    "total = 0\n",
    "count = 0\n",
    "\n",
    "while True:\n",
    "    user_input = input(\"Enter a number (or 'done' to stop): \")\n",
    "    if user_input.lower() == \"done\":\n",
    "        break\n",
    "    total += float(user_input)\n",
    "    count += 1\n",
    "\n",
    "if count > 0:\n",
    "    print(f\"Average: {total / count}\")\n",
    "else:\n",
    "    print(\"No numbers entered.\")\n"
   ]
  },
  {
   "cell_type": "code",
   "execution_count": 69,
   "id": "f4fe0843-a80c-48a1-8164-f29378dbc926",
   "metadata": {},
   "outputs": [
    {
     "name": "stdin",
     "output_type": "stream",
     "text": [
      "Enter the limit for the Fibonacci sequence:  1\n"
     ]
    },
    {
     "name": "stdout",
     "output_type": "stream",
     "text": [
      "0 1 1 "
     ]
    }
   ],
   "source": [
    "n = int(input(\"Enter the limit for the Fibonacci sequence: \"))\n",
    "a, b = 0, 1\n",
    "\n",
    "while a <= n:\n",
    "    print(a, end=\" \")\n",
    "    a, b = b, a + b\n"
   ]
  },
  {
   "cell_type": "code",
   "execution_count": null,
   "id": "3e9acdac-b988-4605-8c2e-745b36b90b67",
   "metadata": {},
   "outputs": [],
   "source": []
  }
 ],
 "metadata": {
  "kernelspec": {
   "display_name": "Python 3 (ipykernel)",
   "language": "python",
   "name": "python3"
  },
  "language_info": {
   "codemirror_mode": {
    "name": "ipython",
    "version": 3
   },
   "file_extension": ".py",
   "mimetype": "text/x-python",
   "name": "python",
   "nbconvert_exporter": "python",
   "pygments_lexer": "ipython3",
   "version": "3.12.4"
  }
 },
 "nbformat": 4,
 "nbformat_minor": 5
}
